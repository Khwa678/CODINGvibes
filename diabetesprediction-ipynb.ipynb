{
 "cells": [
  {
   "cell_type": "code",
   "execution_count": 1,
   "id": "72430104",
   "metadata": {
    "_cell_guid": "b1076dfc-b9ad-4769-8c92-a6c4dae69d19",
    "_uuid": "8f2839f25d086af736a60e9eeb907d3b93b6e0e5",
    "execution": {
     "iopub.execute_input": "2025-10-03T08:21:49.580864Z",
     "iopub.status.busy": "2025-10-03T08:21:49.580510Z",
     "iopub.status.idle": "2025-10-03T08:21:51.769878Z",
     "shell.execute_reply": "2025-10-03T08:21:51.768683Z"
    },
    "papermill": {
     "duration": 2.203736,
     "end_time": "2025-10-03T08:21:51.771875",
     "exception": false,
     "start_time": "2025-10-03T08:21:49.568139",
     "status": "completed"
    },
    "tags": []
   },
   "outputs": [],
   "source": [
    "# This Python 3 environment comes with many helpful analytics libraries installed\n",
    "# It is defined by the kaggle/python Docker image: https://github.com/kaggle/docker-python\n",
    "# For example, here's several helpful packages to load\n",
    "\n",
    "import numpy as np # linear algebra\n",
    "import pandas as pd # data processing, CSV file I/O (e.g. pd.read_csv)\n",
    "\n",
    "# Input data files are available in the read-only \"../input/\" directory\n",
    "# For example, running this (by clicking run or pressing Shift+Enter) will list all files under the input directory\n",
    "\n",
    "import os\n",
    "for dirname, _, filenames in os.walk('/kaggle/input'):\n",
    "    for filename in filenames:\n",
    "        print(os.path.join(dirname, filename))\n",
    "\n",
    "# You can write up to 20GB to the current directory (/kaggle/working/) that gets preserved as output when you create a version using \"Save & Run All\" \n",
    "# You can also write temporary files to /kaggle/temp/, but they won't be saved outside of the current session"
   ]
  },
  {
   "cell_type": "code",
   "execution_count": 2,
   "id": "28935b16",
   "metadata": {
    "execution": {
     "iopub.execute_input": "2025-10-03T08:21:51.793947Z",
     "iopub.status.busy": "2025-10-03T08:21:51.793460Z",
     "iopub.status.idle": "2025-10-03T08:21:51.798299Z",
     "shell.execute_reply": "2025-10-03T08:21:51.797385Z"
    },
    "papermill": {
     "duration": 0.017927,
     "end_time": "2025-10-03T08:21:51.800434",
     "exception": false,
     "start_time": "2025-10-03T08:21:51.782507",
     "status": "completed"
    },
    "tags": []
   },
   "outputs": [],
   "source": [
    "import numpy as np \n",
    "import pandas as pd\n"
   ]
  },
  {
   "cell_type": "code",
   "execution_count": 3,
   "id": "e635aadf",
   "metadata": {
    "execution": {
     "iopub.execute_input": "2025-10-03T08:21:51.822966Z",
     "iopub.status.busy": "2025-10-03T08:21:51.822624Z",
     "iopub.status.idle": "2025-10-03T08:21:54.053374Z",
     "shell.execute_reply": "2025-10-03T08:21:54.052106Z"
    },
    "papermill": {
     "duration": 2.244156,
     "end_time": "2025-10-03T08:21:54.055184",
     "exception": false,
     "start_time": "2025-10-03T08:21:51.811028",
     "status": "completed"
    },
    "tags": []
   },
   "outputs": [],
   "source": [
    "from sklearn.preprocessing import StandardScaler\n",
    "from sklearn.model_selection import train_test_split\n",
    "from sklearn import svm\n",
    "from sklearn.metrics import accuracy_score\n"
   ]
  },
  {
   "cell_type": "code",
   "execution_count": 4,
   "id": "d0e0b042",
   "metadata": {
    "execution": {
     "iopub.execute_input": "2025-10-03T08:21:54.076681Z",
     "iopub.status.busy": "2025-10-03T08:21:54.076163Z",
     "iopub.status.idle": "2025-10-03T08:21:54.081461Z",
     "shell.execute_reply": "2025-10-03T08:21:54.080096Z"
    },
    "papermill": {
     "duration": 0.018293,
     "end_time": "2025-10-03T08:21:54.083530",
     "exception": false,
     "start_time": "2025-10-03T08:21:54.065237",
     "status": "completed"
    },
    "tags": []
   },
   "outputs": [],
   "source": [
    "#data collection anad analysis::\n",
    "#Dataset::\n",
    "\n"
   ]
  },
  {
   "cell_type": "code",
   "execution_count": 5,
   "id": "d0d608ae",
   "metadata": {
    "execution": {
     "iopub.execute_input": "2025-10-03T08:21:54.105284Z",
     "iopub.status.busy": "2025-10-03T08:21:54.104936Z",
     "iopub.status.idle": "2025-10-03T08:21:54.914800Z",
     "shell.execute_reply": "2025-10-03T08:21:54.913190Z"
    },
    "papermill": {
     "duration": 0.822915,
     "end_time": "2025-10-03T08:21:54.917132",
     "exception": false,
     "start_time": "2025-10-03T08:21:54.094217",
     "status": "completed"
    },
    "tags": []
   },
   "outputs": [
    {
     "name": "stdout",
     "output_type": "stream",
     "text": [
      "   Pregnancies  Glucose  BloodPressure  SkinThickness  Insulin   BMI  \\\n",
      "0            6      148             72             35        0  33.6   \n",
      "1            1       85             66             29        0  26.6   \n",
      "2            8      183             64              0        0  23.3   \n",
      "3            1       89             66             23       94  28.1   \n",
      "4            0      137             40             35      168  43.1   \n",
      "\n",
      "   DiabetesPedigreeFunction  Age  Outcome  \n",
      "0                     0.627   50        1  \n",
      "1                     0.351   31        0  \n",
      "2                     0.672   32        1  \n",
      "3                     0.167   21        0  \n",
      "4                     2.288   33        1  \n"
     ]
    }
   ],
   "source": [
    "import pandas as pd\n",
    "\n",
    "# Corrected Dropbox link (raw CSV download)\n",
    "url = 'https://www.dropbox.com/scl/fi/0uiujtei423te1q4kvrny/diabetes.csv?rlkey=20xvytca6xbio4vsowi2hdj8e&dl=1'\n",
    "\n",
    "# Load dataset\n",
    "diabetes_dataset = pd.read_csv(url)\n",
    "\n",
    "# Show first 5 rows\n",
    "print(diabetes_dataset.head())\n"
   ]
  },
  {
   "cell_type": "code",
   "execution_count": 6,
   "id": "66d0873a",
   "metadata": {
    "execution": {
     "iopub.execute_input": "2025-10-03T08:21:54.940902Z",
     "iopub.status.busy": "2025-10-03T08:21:54.940529Z",
     "iopub.status.idle": "2025-10-03T08:21:55.002740Z",
     "shell.execute_reply": "2025-10-03T08:21:55.001116Z"
    },
    "papermill": {
     "duration": 0.076512,
     "end_time": "2025-10-03T08:21:55.005295",
     "exception": false,
     "start_time": "2025-10-03T08:21:54.928783",
     "status": "completed"
    },
    "tags": []
   },
   "outputs": [],
   "source": [
    "pd.read_csv?"
   ]
  },
  {
   "cell_type": "code",
   "execution_count": 7,
   "id": "e591bca5",
   "metadata": {
    "execution": {
     "iopub.execute_input": "2025-10-03T08:21:55.027441Z",
     "iopub.status.busy": "2025-10-03T08:21:55.027097Z",
     "iopub.status.idle": "2025-10-03T08:21:55.056148Z",
     "shell.execute_reply": "2025-10-03T08:21:55.055176Z"
    },
    "papermill": {
     "duration": 0.042435,
     "end_time": "2025-10-03T08:21:55.057895",
     "exception": false,
     "start_time": "2025-10-03T08:21:55.015460",
     "status": "completed"
    },
    "tags": []
   },
   "outputs": [
    {
     "data": {
      "text/html": [
       "<div>\n",
       "<style scoped>\n",
       "    .dataframe tbody tr th:only-of-type {\n",
       "        vertical-align: middle;\n",
       "    }\n",
       "\n",
       "    .dataframe tbody tr th {\n",
       "        vertical-align: top;\n",
       "    }\n",
       "\n",
       "    .dataframe thead th {\n",
       "        text-align: right;\n",
       "    }\n",
       "</style>\n",
       "<table border=\"1\" class=\"dataframe\">\n",
       "  <thead>\n",
       "    <tr style=\"text-align: right;\">\n",
       "      <th></th>\n",
       "      <th>Pregnancies</th>\n",
       "      <th>Glucose</th>\n",
       "      <th>BloodPressure</th>\n",
       "      <th>SkinThickness</th>\n",
       "      <th>Insulin</th>\n",
       "      <th>BMI</th>\n",
       "      <th>DiabetesPedigreeFunction</th>\n",
       "      <th>Age</th>\n",
       "      <th>Outcome</th>\n",
       "    </tr>\n",
       "  </thead>\n",
       "  <tbody>\n",
       "    <tr>\n",
       "      <th>0</th>\n",
       "      <td>6</td>\n",
       "      <td>148</td>\n",
       "      <td>72</td>\n",
       "      <td>35</td>\n",
       "      <td>0</td>\n",
       "      <td>33.6</td>\n",
       "      <td>0.627</td>\n",
       "      <td>50</td>\n",
       "      <td>1</td>\n",
       "    </tr>\n",
       "    <tr>\n",
       "      <th>1</th>\n",
       "      <td>1</td>\n",
       "      <td>85</td>\n",
       "      <td>66</td>\n",
       "      <td>29</td>\n",
       "      <td>0</td>\n",
       "      <td>26.6</td>\n",
       "      <td>0.351</td>\n",
       "      <td>31</td>\n",
       "      <td>0</td>\n",
       "    </tr>\n",
       "    <tr>\n",
       "      <th>2</th>\n",
       "      <td>8</td>\n",
       "      <td>183</td>\n",
       "      <td>64</td>\n",
       "      <td>0</td>\n",
       "      <td>0</td>\n",
       "      <td>23.3</td>\n",
       "      <td>0.672</td>\n",
       "      <td>32</td>\n",
       "      <td>1</td>\n",
       "    </tr>\n",
       "    <tr>\n",
       "      <th>3</th>\n",
       "      <td>1</td>\n",
       "      <td>89</td>\n",
       "      <td>66</td>\n",
       "      <td>23</td>\n",
       "      <td>94</td>\n",
       "      <td>28.1</td>\n",
       "      <td>0.167</td>\n",
       "      <td>21</td>\n",
       "      <td>0</td>\n",
       "    </tr>\n",
       "    <tr>\n",
       "      <th>4</th>\n",
       "      <td>0</td>\n",
       "      <td>137</td>\n",
       "      <td>40</td>\n",
       "      <td>35</td>\n",
       "      <td>168</td>\n",
       "      <td>43.1</td>\n",
       "      <td>2.288</td>\n",
       "      <td>33</td>\n",
       "      <td>1</td>\n",
       "    </tr>\n",
       "    <tr>\n",
       "      <th>...</th>\n",
       "      <td>...</td>\n",
       "      <td>...</td>\n",
       "      <td>...</td>\n",
       "      <td>...</td>\n",
       "      <td>...</td>\n",
       "      <td>...</td>\n",
       "      <td>...</td>\n",
       "      <td>...</td>\n",
       "      <td>...</td>\n",
       "    </tr>\n",
       "    <tr>\n",
       "      <th>763</th>\n",
       "      <td>10</td>\n",
       "      <td>101</td>\n",
       "      <td>76</td>\n",
       "      <td>48</td>\n",
       "      <td>180</td>\n",
       "      <td>32.9</td>\n",
       "      <td>0.171</td>\n",
       "      <td>63</td>\n",
       "      <td>0</td>\n",
       "    </tr>\n",
       "    <tr>\n",
       "      <th>764</th>\n",
       "      <td>2</td>\n",
       "      <td>122</td>\n",
       "      <td>70</td>\n",
       "      <td>27</td>\n",
       "      <td>0</td>\n",
       "      <td>36.8</td>\n",
       "      <td>0.340</td>\n",
       "      <td>27</td>\n",
       "      <td>0</td>\n",
       "    </tr>\n",
       "    <tr>\n",
       "      <th>765</th>\n",
       "      <td>5</td>\n",
       "      <td>121</td>\n",
       "      <td>72</td>\n",
       "      <td>23</td>\n",
       "      <td>112</td>\n",
       "      <td>26.2</td>\n",
       "      <td>0.245</td>\n",
       "      <td>30</td>\n",
       "      <td>0</td>\n",
       "    </tr>\n",
       "    <tr>\n",
       "      <th>766</th>\n",
       "      <td>1</td>\n",
       "      <td>126</td>\n",
       "      <td>60</td>\n",
       "      <td>0</td>\n",
       "      <td>0</td>\n",
       "      <td>30.1</td>\n",
       "      <td>0.349</td>\n",
       "      <td>47</td>\n",
       "      <td>1</td>\n",
       "    </tr>\n",
       "    <tr>\n",
       "      <th>767</th>\n",
       "      <td>1</td>\n",
       "      <td>93</td>\n",
       "      <td>70</td>\n",
       "      <td>31</td>\n",
       "      <td>0</td>\n",
       "      <td>30.4</td>\n",
       "      <td>0.315</td>\n",
       "      <td>23</td>\n",
       "      <td>0</td>\n",
       "    </tr>\n",
       "  </tbody>\n",
       "</table>\n",
       "<p>768 rows × 9 columns</p>\n",
       "</div>"
      ],
      "text/plain": [
       "     Pregnancies  Glucose  BloodPressure  SkinThickness  Insulin   BMI  \\\n",
       "0              6      148             72             35        0  33.6   \n",
       "1              1       85             66             29        0  26.6   \n",
       "2              8      183             64              0        0  23.3   \n",
       "3              1       89             66             23       94  28.1   \n",
       "4              0      137             40             35      168  43.1   \n",
       "..           ...      ...            ...            ...      ...   ...   \n",
       "763           10      101             76             48      180  32.9   \n",
       "764            2      122             70             27        0  36.8   \n",
       "765            5      121             72             23      112  26.2   \n",
       "766            1      126             60              0        0  30.1   \n",
       "767            1       93             70             31        0  30.4   \n",
       "\n",
       "     DiabetesPedigreeFunction  Age  Outcome  \n",
       "0                       0.627   50        1  \n",
       "1                       0.351   31        0  \n",
       "2                       0.672   32        1  \n",
       "3                       0.167   21        0  \n",
       "4                       2.288   33        1  \n",
       "..                        ...  ...      ...  \n",
       "763                     0.171   63        0  \n",
       "764                     0.340   27        0  \n",
       "765                     0.245   30        0  \n",
       "766                     0.349   47        1  \n",
       "767                     0.315   23        0  \n",
       "\n",
       "[768 rows x 9 columns]"
      ]
     },
     "execution_count": 7,
     "metadata": {},
     "output_type": "execute_result"
    }
   ],
   "source": [
    "diabetes_dataset"
   ]
  },
  {
   "cell_type": "code",
   "execution_count": 8,
   "id": "2b0db99f",
   "metadata": {
    "execution": {
     "iopub.execute_input": "2025-10-03T08:21:55.081085Z",
     "iopub.status.busy": "2025-10-03T08:21:55.079918Z",
     "iopub.status.idle": "2025-10-03T08:21:55.092531Z",
     "shell.execute_reply": "2025-10-03T08:21:55.091508Z"
    },
    "papermill": {
     "duration": 0.025592,
     "end_time": "2025-10-03T08:21:55.094081",
     "exception": false,
     "start_time": "2025-10-03T08:21:55.068489",
     "status": "completed"
    },
    "tags": []
   },
   "outputs": [
    {
     "data": {
      "text/html": [
       "<div>\n",
       "<style scoped>\n",
       "    .dataframe tbody tr th:only-of-type {\n",
       "        vertical-align: middle;\n",
       "    }\n",
       "\n",
       "    .dataframe tbody tr th {\n",
       "        vertical-align: top;\n",
       "    }\n",
       "\n",
       "    .dataframe thead th {\n",
       "        text-align: right;\n",
       "    }\n",
       "</style>\n",
       "<table border=\"1\" class=\"dataframe\">\n",
       "  <thead>\n",
       "    <tr style=\"text-align: right;\">\n",
       "      <th></th>\n",
       "      <th>Pregnancies</th>\n",
       "      <th>Glucose</th>\n",
       "      <th>BloodPressure</th>\n",
       "      <th>SkinThickness</th>\n",
       "      <th>Insulin</th>\n",
       "      <th>BMI</th>\n",
       "      <th>DiabetesPedigreeFunction</th>\n",
       "      <th>Age</th>\n",
       "      <th>Outcome</th>\n",
       "    </tr>\n",
       "  </thead>\n",
       "  <tbody>\n",
       "    <tr>\n",
       "      <th>0</th>\n",
       "      <td>6</td>\n",
       "      <td>148</td>\n",
       "      <td>72</td>\n",
       "      <td>35</td>\n",
       "      <td>0</td>\n",
       "      <td>33.6</td>\n",
       "      <td>0.627</td>\n",
       "      <td>50</td>\n",
       "      <td>1</td>\n",
       "    </tr>\n",
       "    <tr>\n",
       "      <th>1</th>\n",
       "      <td>1</td>\n",
       "      <td>85</td>\n",
       "      <td>66</td>\n",
       "      <td>29</td>\n",
       "      <td>0</td>\n",
       "      <td>26.6</td>\n",
       "      <td>0.351</td>\n",
       "      <td>31</td>\n",
       "      <td>0</td>\n",
       "    </tr>\n",
       "    <tr>\n",
       "      <th>2</th>\n",
       "      <td>8</td>\n",
       "      <td>183</td>\n",
       "      <td>64</td>\n",
       "      <td>0</td>\n",
       "      <td>0</td>\n",
       "      <td>23.3</td>\n",
       "      <td>0.672</td>\n",
       "      <td>32</td>\n",
       "      <td>1</td>\n",
       "    </tr>\n",
       "    <tr>\n",
       "      <th>3</th>\n",
       "      <td>1</td>\n",
       "      <td>89</td>\n",
       "      <td>66</td>\n",
       "      <td>23</td>\n",
       "      <td>94</td>\n",
       "      <td>28.1</td>\n",
       "      <td>0.167</td>\n",
       "      <td>21</td>\n",
       "      <td>0</td>\n",
       "    </tr>\n",
       "    <tr>\n",
       "      <th>4</th>\n",
       "      <td>0</td>\n",
       "      <td>137</td>\n",
       "      <td>40</td>\n",
       "      <td>35</td>\n",
       "      <td>168</td>\n",
       "      <td>43.1</td>\n",
       "      <td>2.288</td>\n",
       "      <td>33</td>\n",
       "      <td>1</td>\n",
       "    </tr>\n",
       "  </tbody>\n",
       "</table>\n",
       "</div>"
      ],
      "text/plain": [
       "   Pregnancies  Glucose  BloodPressure  SkinThickness  Insulin   BMI  \\\n",
       "0            6      148             72             35        0  33.6   \n",
       "1            1       85             66             29        0  26.6   \n",
       "2            8      183             64              0        0  23.3   \n",
       "3            1       89             66             23       94  28.1   \n",
       "4            0      137             40             35      168  43.1   \n",
       "\n",
       "   DiabetesPedigreeFunction  Age  Outcome  \n",
       "0                     0.627   50        1  \n",
       "1                     0.351   31        0  \n",
       "2                     0.672   32        1  \n",
       "3                     0.167   21        0  \n",
       "4                     2.288   33        1  "
      ]
     },
     "execution_count": 8,
     "metadata": {},
     "output_type": "execute_result"
    }
   ],
   "source": [
    "diabetes_dataset.head()"
   ]
  },
  {
   "cell_type": "code",
   "execution_count": 9,
   "id": "62e0ffb2",
   "metadata": {
    "execution": {
     "iopub.execute_input": "2025-10-03T08:21:55.116682Z",
     "iopub.status.busy": "2025-10-03T08:21:55.116347Z",
     "iopub.status.idle": "2025-10-03T08:21:55.124783Z",
     "shell.execute_reply": "2025-10-03T08:21:55.123580Z"
    },
    "papermill": {
     "duration": 0.021818,
     "end_time": "2025-10-03T08:21:55.126682",
     "exception": false,
     "start_time": "2025-10-03T08:21:55.104864",
     "status": "completed"
    },
    "tags": []
   },
   "outputs": [
    {
     "data": {
      "text/plain": [
       "Index(['Pregnancies', 'Glucose', 'BloodPressure', 'SkinThickness', 'Insulin',\n",
       "       'BMI', 'DiabetesPedigreeFunction', 'Age', 'Outcome'],\n",
       "      dtype='object')"
      ]
     },
     "execution_count": 9,
     "metadata": {},
     "output_type": "execute_result"
    }
   ],
   "source": [
    "#number of rows and columns in this data set ::\n",
    "diabetes_dataset.columns"
   ]
  },
  {
   "cell_type": "code",
   "execution_count": 10,
   "id": "9ce3df94",
   "metadata": {
    "execution": {
     "iopub.execute_input": "2025-10-03T08:21:55.150492Z",
     "iopub.status.busy": "2025-10-03T08:21:55.150171Z",
     "iopub.status.idle": "2025-10-03T08:21:55.158514Z",
     "shell.execute_reply": "2025-10-03T08:21:55.157515Z"
    },
    "papermill": {
     "duration": 0.022714,
     "end_time": "2025-10-03T08:21:55.160327",
     "exception": false,
     "start_time": "2025-10-03T08:21:55.137613",
     "status": "completed"
    },
    "tags": []
   },
   "outputs": [
    {
     "data": {
      "text/plain": [
       "(768, 9)"
      ]
     },
     "execution_count": 10,
     "metadata": {},
     "output_type": "execute_result"
    }
   ],
   "source": [
    "diabetes_dataset.shape"
   ]
  },
  {
   "cell_type": "code",
   "execution_count": 11,
   "id": "ed8ac4da",
   "metadata": {
    "execution": {
     "iopub.execute_input": "2025-10-03T08:21:55.184014Z",
     "iopub.status.busy": "2025-10-03T08:21:55.183419Z",
     "iopub.status.idle": "2025-10-03T08:21:55.232240Z",
     "shell.execute_reply": "2025-10-03T08:21:55.231103Z"
    },
    "papermill": {
     "duration": 0.062622,
     "end_time": "2025-10-03T08:21:55.234129",
     "exception": false,
     "start_time": "2025-10-03T08:21:55.171507",
     "status": "completed"
    },
    "tags": []
   },
   "outputs": [
    {
     "data": {
      "text/html": [
       "<div>\n",
       "<style scoped>\n",
       "    .dataframe tbody tr th:only-of-type {\n",
       "        vertical-align: middle;\n",
       "    }\n",
       "\n",
       "    .dataframe tbody tr th {\n",
       "        vertical-align: top;\n",
       "    }\n",
       "\n",
       "    .dataframe thead th {\n",
       "        text-align: right;\n",
       "    }\n",
       "</style>\n",
       "<table border=\"1\" class=\"dataframe\">\n",
       "  <thead>\n",
       "    <tr style=\"text-align: right;\">\n",
       "      <th></th>\n",
       "      <th>Pregnancies</th>\n",
       "      <th>Glucose</th>\n",
       "      <th>BloodPressure</th>\n",
       "      <th>SkinThickness</th>\n",
       "      <th>Insulin</th>\n",
       "      <th>BMI</th>\n",
       "      <th>DiabetesPedigreeFunction</th>\n",
       "      <th>Age</th>\n",
       "      <th>Outcome</th>\n",
       "    </tr>\n",
       "  </thead>\n",
       "  <tbody>\n",
       "    <tr>\n",
       "      <th>count</th>\n",
       "      <td>768.000000</td>\n",
       "      <td>768.000000</td>\n",
       "      <td>768.000000</td>\n",
       "      <td>768.000000</td>\n",
       "      <td>768.000000</td>\n",
       "      <td>768.000000</td>\n",
       "      <td>768.000000</td>\n",
       "      <td>768.000000</td>\n",
       "      <td>768.000000</td>\n",
       "    </tr>\n",
       "    <tr>\n",
       "      <th>mean</th>\n",
       "      <td>3.845052</td>\n",
       "      <td>120.894531</td>\n",
       "      <td>69.105469</td>\n",
       "      <td>20.536458</td>\n",
       "      <td>79.799479</td>\n",
       "      <td>31.992578</td>\n",
       "      <td>0.471876</td>\n",
       "      <td>33.240885</td>\n",
       "      <td>0.348958</td>\n",
       "    </tr>\n",
       "    <tr>\n",
       "      <th>std</th>\n",
       "      <td>3.369578</td>\n",
       "      <td>31.972618</td>\n",
       "      <td>19.355807</td>\n",
       "      <td>15.952218</td>\n",
       "      <td>115.244002</td>\n",
       "      <td>7.884160</td>\n",
       "      <td>0.331329</td>\n",
       "      <td>11.760232</td>\n",
       "      <td>0.476951</td>\n",
       "    </tr>\n",
       "    <tr>\n",
       "      <th>min</th>\n",
       "      <td>0.000000</td>\n",
       "      <td>0.000000</td>\n",
       "      <td>0.000000</td>\n",
       "      <td>0.000000</td>\n",
       "      <td>0.000000</td>\n",
       "      <td>0.000000</td>\n",
       "      <td>0.078000</td>\n",
       "      <td>21.000000</td>\n",
       "      <td>0.000000</td>\n",
       "    </tr>\n",
       "    <tr>\n",
       "      <th>25%</th>\n",
       "      <td>1.000000</td>\n",
       "      <td>99.000000</td>\n",
       "      <td>62.000000</td>\n",
       "      <td>0.000000</td>\n",
       "      <td>0.000000</td>\n",
       "      <td>27.300000</td>\n",
       "      <td>0.243750</td>\n",
       "      <td>24.000000</td>\n",
       "      <td>0.000000</td>\n",
       "    </tr>\n",
       "    <tr>\n",
       "      <th>50%</th>\n",
       "      <td>3.000000</td>\n",
       "      <td>117.000000</td>\n",
       "      <td>72.000000</td>\n",
       "      <td>23.000000</td>\n",
       "      <td>30.500000</td>\n",
       "      <td>32.000000</td>\n",
       "      <td>0.372500</td>\n",
       "      <td>29.000000</td>\n",
       "      <td>0.000000</td>\n",
       "    </tr>\n",
       "    <tr>\n",
       "      <th>75%</th>\n",
       "      <td>6.000000</td>\n",
       "      <td>140.250000</td>\n",
       "      <td>80.000000</td>\n",
       "      <td>32.000000</td>\n",
       "      <td>127.250000</td>\n",
       "      <td>36.600000</td>\n",
       "      <td>0.626250</td>\n",
       "      <td>41.000000</td>\n",
       "      <td>1.000000</td>\n",
       "    </tr>\n",
       "    <tr>\n",
       "      <th>max</th>\n",
       "      <td>17.000000</td>\n",
       "      <td>199.000000</td>\n",
       "      <td>122.000000</td>\n",
       "      <td>99.000000</td>\n",
       "      <td>846.000000</td>\n",
       "      <td>67.100000</td>\n",
       "      <td>2.420000</td>\n",
       "      <td>81.000000</td>\n",
       "      <td>1.000000</td>\n",
       "    </tr>\n",
       "  </tbody>\n",
       "</table>\n",
       "</div>"
      ],
      "text/plain": [
       "       Pregnancies     Glucose  BloodPressure  SkinThickness     Insulin  \\\n",
       "count   768.000000  768.000000     768.000000     768.000000  768.000000   \n",
       "mean      3.845052  120.894531      69.105469      20.536458   79.799479   \n",
       "std       3.369578   31.972618      19.355807      15.952218  115.244002   \n",
       "min       0.000000    0.000000       0.000000       0.000000    0.000000   \n",
       "25%       1.000000   99.000000      62.000000       0.000000    0.000000   \n",
       "50%       3.000000  117.000000      72.000000      23.000000   30.500000   \n",
       "75%       6.000000  140.250000      80.000000      32.000000  127.250000   \n",
       "max      17.000000  199.000000     122.000000      99.000000  846.000000   \n",
       "\n",
       "              BMI  DiabetesPedigreeFunction         Age     Outcome  \n",
       "count  768.000000                768.000000  768.000000  768.000000  \n",
       "mean    31.992578                  0.471876   33.240885    0.348958  \n",
       "std      7.884160                  0.331329   11.760232    0.476951  \n",
       "min      0.000000                  0.078000   21.000000    0.000000  \n",
       "25%     27.300000                  0.243750   24.000000    0.000000  \n",
       "50%     32.000000                  0.372500   29.000000    0.000000  \n",
       "75%     36.600000                  0.626250   41.000000    1.000000  \n",
       "max     67.100000                  2.420000   81.000000    1.000000  "
      ]
     },
     "execution_count": 11,
     "metadata": {},
     "output_type": "execute_result"
    }
   ],
   "source": [
    "#getting the statistical measures of the data ::\n",
    "diabetes_dataset.describe()"
   ]
  },
  {
   "cell_type": "code",
   "execution_count": 12,
   "id": "a5f8c6b3",
   "metadata": {
    "execution": {
     "iopub.execute_input": "2025-10-03T08:21:55.257967Z",
     "iopub.status.busy": "2025-10-03T08:21:55.257592Z",
     "iopub.status.idle": "2025-10-03T08:21:55.279943Z",
     "shell.execute_reply": "2025-10-03T08:21:55.278811Z"
    },
    "papermill": {
     "duration": 0.036268,
     "end_time": "2025-10-03T08:21:55.281867",
     "exception": false,
     "start_time": "2025-10-03T08:21:55.245599",
     "status": "completed"
    },
    "tags": []
   },
   "outputs": [
    {
     "name": "stdout",
     "output_type": "stream",
     "text": [
      "<class 'pandas.core.frame.DataFrame'>\n",
      "RangeIndex: 768 entries, 0 to 767\n",
      "Data columns (total 9 columns):\n",
      " #   Column                    Non-Null Count  Dtype  \n",
      "---  ------                    --------------  -----  \n",
      " 0   Pregnancies               768 non-null    int64  \n",
      " 1   Glucose                   768 non-null    int64  \n",
      " 2   BloodPressure             768 non-null    int64  \n",
      " 3   SkinThickness             768 non-null    int64  \n",
      " 4   Insulin                   768 non-null    int64  \n",
      " 5   BMI                       768 non-null    float64\n",
      " 6   DiabetesPedigreeFunction  768 non-null    float64\n",
      " 7   Age                       768 non-null    int64  \n",
      " 8   Outcome                   768 non-null    int64  \n",
      "dtypes: float64(2), int64(7)\n",
      "memory usage: 54.1 KB\n"
     ]
    }
   ],
   "source": [
    "diabetes_dataset.info()"
   ]
  },
  {
   "cell_type": "code",
   "execution_count": 13,
   "id": "f04d5362",
   "metadata": {
    "execution": {
     "iopub.execute_input": "2025-10-03T08:21:55.305080Z",
     "iopub.status.busy": "2025-10-03T08:21:55.304689Z",
     "iopub.status.idle": "2025-10-03T08:21:55.314779Z",
     "shell.execute_reply": "2025-10-03T08:21:55.313540Z"
    },
    "papermill": {
     "duration": 0.023933,
     "end_time": "2025-10-03T08:21:55.316791",
     "exception": false,
     "start_time": "2025-10-03T08:21:55.292858",
     "status": "completed"
    },
    "tags": []
   },
   "outputs": [
    {
     "data": {
      "text/plain": [
       "Outcome\n",
       "0    500\n",
       "1    268\n",
       "Name: count, dtype: int64"
      ]
     },
     "execution_count": 13,
     "metadata": {},
     "output_type": "execute_result"
    }
   ],
   "source": [
    "diabetes_dataset['Outcome'].value_counts()"
   ]
  },
  {
   "cell_type": "code",
   "execution_count": null,
   "id": "8390fad0",
   "metadata": {
    "papermill": {
     "duration": 0.010626,
     "end_time": "2025-10-03T08:21:55.339165",
     "exception": false,
     "start_time": "2025-10-03T08:21:55.328539",
     "status": "completed"
    },
    "tags": []
   },
   "outputs": [],
   "source": []
  },
  {
   "cell_type": "code",
   "execution_count": null,
   "id": "3fd47d3a",
   "metadata": {
    "papermill": {
     "duration": 0.011993,
     "end_time": "2025-10-03T08:21:55.362123",
     "exception": false,
     "start_time": "2025-10-03T08:21:55.350130",
     "status": "completed"
    },
    "tags": []
   },
   "outputs": [],
   "source": []
  },
  {
   "cell_type": "markdown",
   "id": "4dc61fbc",
   "metadata": {
    "papermill": {
     "duration": 0.011035,
     "end_time": "2025-10-03T08:21:55.445876",
     "exception": false,
     "start_time": "2025-10-03T08:21:55.434841",
     "status": "completed"
    },
    "tags": []
   },
   "source": [
    "# The label zero represents the non diabetic and one says the diabetic"
   ]
  },
  {
   "cell_type": "code",
   "execution_count": 14,
   "id": "c5822639",
   "metadata": {
    "execution": {
     "iopub.execute_input": "2025-10-03T08:21:55.470066Z",
     "iopub.status.busy": "2025-10-03T08:21:55.468868Z",
     "iopub.status.idle": "2025-10-03T08:21:55.485777Z",
     "shell.execute_reply": "2025-10-03T08:21:55.484784Z"
    },
    "papermill": {
     "duration": 0.030617,
     "end_time": "2025-10-03T08:21:55.487437",
     "exception": false,
     "start_time": "2025-10-03T08:21:55.456820",
     "status": "completed"
    },
    "tags": []
   },
   "outputs": [
    {
     "data": {
      "text/html": [
       "<div>\n",
       "<style scoped>\n",
       "    .dataframe tbody tr th:only-of-type {\n",
       "        vertical-align: middle;\n",
       "    }\n",
       "\n",
       "    .dataframe tbody tr th {\n",
       "        vertical-align: top;\n",
       "    }\n",
       "\n",
       "    .dataframe thead th {\n",
       "        text-align: right;\n",
       "    }\n",
       "</style>\n",
       "<table border=\"1\" class=\"dataframe\">\n",
       "  <thead>\n",
       "    <tr style=\"text-align: right;\">\n",
       "      <th></th>\n",
       "      <th>Pregnancies</th>\n",
       "      <th>Glucose</th>\n",
       "      <th>BloodPressure</th>\n",
       "      <th>SkinThickness</th>\n",
       "      <th>Insulin</th>\n",
       "      <th>BMI</th>\n",
       "      <th>DiabetesPedigreeFunction</th>\n",
       "      <th>Age</th>\n",
       "    </tr>\n",
       "    <tr>\n",
       "      <th>Outcome</th>\n",
       "      <th></th>\n",
       "      <th></th>\n",
       "      <th></th>\n",
       "      <th></th>\n",
       "      <th></th>\n",
       "      <th></th>\n",
       "      <th></th>\n",
       "      <th></th>\n",
       "    </tr>\n",
       "  </thead>\n",
       "  <tbody>\n",
       "    <tr>\n",
       "      <th>0</th>\n",
       "      <td>3.298000</td>\n",
       "      <td>109.980000</td>\n",
       "      <td>68.184000</td>\n",
       "      <td>19.664000</td>\n",
       "      <td>68.792000</td>\n",
       "      <td>30.304200</td>\n",
       "      <td>0.429734</td>\n",
       "      <td>31.190000</td>\n",
       "    </tr>\n",
       "    <tr>\n",
       "      <th>1</th>\n",
       "      <td>4.865672</td>\n",
       "      <td>141.257463</td>\n",
       "      <td>70.824627</td>\n",
       "      <td>22.164179</td>\n",
       "      <td>100.335821</td>\n",
       "      <td>35.142537</td>\n",
       "      <td>0.550500</td>\n",
       "      <td>37.067164</td>\n",
       "    </tr>\n",
       "  </tbody>\n",
       "</table>\n",
       "</div>"
      ],
      "text/plain": [
       "         Pregnancies     Glucose  BloodPressure  SkinThickness     Insulin  \\\n",
       "Outcome                                                                      \n",
       "0           3.298000  109.980000      68.184000      19.664000   68.792000   \n",
       "1           4.865672  141.257463      70.824627      22.164179  100.335821   \n",
       "\n",
       "               BMI  DiabetesPedigreeFunction        Age  \n",
       "Outcome                                                  \n",
       "0        30.304200                  0.429734  31.190000  \n",
       "1        35.142537                  0.550500  37.067164  "
      ]
     },
     "execution_count": 14,
     "metadata": {},
     "output_type": "execute_result"
    }
   ],
   "source": [
    "diabetes_dataset.groupby('Outcome').mean()\n",
    "\n",
    "\n"
   ]
  },
  {
   "cell_type": "code",
   "execution_count": 15,
   "id": "9919d7c3",
   "metadata": {
    "execution": {
     "iopub.execute_input": "2025-10-03T08:21:55.512294Z",
     "iopub.status.busy": "2025-10-03T08:21:55.511964Z",
     "iopub.status.idle": "2025-10-03T08:21:55.516682Z",
     "shell.execute_reply": "2025-10-03T08:21:55.515326Z"
    },
    "papermill": {
     "duration": 0.019539,
     "end_time": "2025-10-03T08:21:55.518529",
     "exception": false,
     "start_time": "2025-10-03T08:21:55.498990",
     "status": "completed"
    },
    "tags": []
   },
   "outputs": [],
   "source": [
    "#seperating the data and labels::"
   ]
  },
  {
   "cell_type": "code",
   "execution_count": 16,
   "id": "2f37b4e6",
   "metadata": {
    "execution": {
     "iopub.execute_input": "2025-10-03T08:21:55.543943Z",
     "iopub.status.busy": "2025-10-03T08:21:55.542932Z",
     "iopub.status.idle": "2025-10-03T08:21:55.549654Z",
     "shell.execute_reply": "2025-10-03T08:21:55.548693Z"
    },
    "papermill": {
     "duration": 0.021387,
     "end_time": "2025-10-03T08:21:55.551716",
     "exception": false,
     "start_time": "2025-10-03T08:21:55.530329",
     "status": "completed"
    },
    "tags": []
   },
   "outputs": [],
   "source": [
    "X=diabetes_dataset.drop(columns='Outcome',axis=1)\n",
    "Y=diabetes_dataset['Outcome']"
   ]
  },
  {
   "cell_type": "code",
   "execution_count": 17,
   "id": "e9de33a1",
   "metadata": {
    "execution": {
     "iopub.execute_input": "2025-10-03T08:21:55.577462Z",
     "iopub.status.busy": "2025-10-03T08:21:55.577105Z",
     "iopub.status.idle": "2025-10-03T08:21:55.593801Z",
     "shell.execute_reply": "2025-10-03T08:21:55.592771Z"
    },
    "papermill": {
     "duration": 0.032213,
     "end_time": "2025-10-03T08:21:55.595659",
     "exception": false,
     "start_time": "2025-10-03T08:21:55.563446",
     "status": "completed"
    },
    "tags": []
   },
   "outputs": [
    {
     "data": {
      "text/html": [
       "<div>\n",
       "<style scoped>\n",
       "    .dataframe tbody tr th:only-of-type {\n",
       "        vertical-align: middle;\n",
       "    }\n",
       "\n",
       "    .dataframe tbody tr th {\n",
       "        vertical-align: top;\n",
       "    }\n",
       "\n",
       "    .dataframe thead th {\n",
       "        text-align: right;\n",
       "    }\n",
       "</style>\n",
       "<table border=\"1\" class=\"dataframe\">\n",
       "  <thead>\n",
       "    <tr style=\"text-align: right;\">\n",
       "      <th></th>\n",
       "      <th>Pregnancies</th>\n",
       "      <th>Glucose</th>\n",
       "      <th>BloodPressure</th>\n",
       "      <th>SkinThickness</th>\n",
       "      <th>Insulin</th>\n",
       "      <th>BMI</th>\n",
       "      <th>DiabetesPedigreeFunction</th>\n",
       "      <th>Age</th>\n",
       "      <th>Outcome</th>\n",
       "    </tr>\n",
       "  </thead>\n",
       "  <tbody>\n",
       "    <tr>\n",
       "      <th>0</th>\n",
       "      <td>6</td>\n",
       "      <td>148</td>\n",
       "      <td>72</td>\n",
       "      <td>35</td>\n",
       "      <td>0</td>\n",
       "      <td>33.6</td>\n",
       "      <td>0.627</td>\n",
       "      <td>50</td>\n",
       "      <td>1</td>\n",
       "    </tr>\n",
       "    <tr>\n",
       "      <th>1</th>\n",
       "      <td>1</td>\n",
       "      <td>85</td>\n",
       "      <td>66</td>\n",
       "      <td>29</td>\n",
       "      <td>0</td>\n",
       "      <td>26.6</td>\n",
       "      <td>0.351</td>\n",
       "      <td>31</td>\n",
       "      <td>0</td>\n",
       "    </tr>\n",
       "    <tr>\n",
       "      <th>2</th>\n",
       "      <td>8</td>\n",
       "      <td>183</td>\n",
       "      <td>64</td>\n",
       "      <td>0</td>\n",
       "      <td>0</td>\n",
       "      <td>23.3</td>\n",
       "      <td>0.672</td>\n",
       "      <td>32</td>\n",
       "      <td>1</td>\n",
       "    </tr>\n",
       "    <tr>\n",
       "      <th>3</th>\n",
       "      <td>1</td>\n",
       "      <td>89</td>\n",
       "      <td>66</td>\n",
       "      <td>23</td>\n",
       "      <td>94</td>\n",
       "      <td>28.1</td>\n",
       "      <td>0.167</td>\n",
       "      <td>21</td>\n",
       "      <td>0</td>\n",
       "    </tr>\n",
       "    <tr>\n",
       "      <th>4</th>\n",
       "      <td>0</td>\n",
       "      <td>137</td>\n",
       "      <td>40</td>\n",
       "      <td>35</td>\n",
       "      <td>168</td>\n",
       "      <td>43.1</td>\n",
       "      <td>2.288</td>\n",
       "      <td>33</td>\n",
       "      <td>1</td>\n",
       "    </tr>\n",
       "    <tr>\n",
       "      <th>...</th>\n",
       "      <td>...</td>\n",
       "      <td>...</td>\n",
       "      <td>...</td>\n",
       "      <td>...</td>\n",
       "      <td>...</td>\n",
       "      <td>...</td>\n",
       "      <td>...</td>\n",
       "      <td>...</td>\n",
       "      <td>...</td>\n",
       "    </tr>\n",
       "    <tr>\n",
       "      <th>763</th>\n",
       "      <td>10</td>\n",
       "      <td>101</td>\n",
       "      <td>76</td>\n",
       "      <td>48</td>\n",
       "      <td>180</td>\n",
       "      <td>32.9</td>\n",
       "      <td>0.171</td>\n",
       "      <td>63</td>\n",
       "      <td>0</td>\n",
       "    </tr>\n",
       "    <tr>\n",
       "      <th>764</th>\n",
       "      <td>2</td>\n",
       "      <td>122</td>\n",
       "      <td>70</td>\n",
       "      <td>27</td>\n",
       "      <td>0</td>\n",
       "      <td>36.8</td>\n",
       "      <td>0.340</td>\n",
       "      <td>27</td>\n",
       "      <td>0</td>\n",
       "    </tr>\n",
       "    <tr>\n",
       "      <th>765</th>\n",
       "      <td>5</td>\n",
       "      <td>121</td>\n",
       "      <td>72</td>\n",
       "      <td>23</td>\n",
       "      <td>112</td>\n",
       "      <td>26.2</td>\n",
       "      <td>0.245</td>\n",
       "      <td>30</td>\n",
       "      <td>0</td>\n",
       "    </tr>\n",
       "    <tr>\n",
       "      <th>766</th>\n",
       "      <td>1</td>\n",
       "      <td>126</td>\n",
       "      <td>60</td>\n",
       "      <td>0</td>\n",
       "      <td>0</td>\n",
       "      <td>30.1</td>\n",
       "      <td>0.349</td>\n",
       "      <td>47</td>\n",
       "      <td>1</td>\n",
       "    </tr>\n",
       "    <tr>\n",
       "      <th>767</th>\n",
       "      <td>1</td>\n",
       "      <td>93</td>\n",
       "      <td>70</td>\n",
       "      <td>31</td>\n",
       "      <td>0</td>\n",
       "      <td>30.4</td>\n",
       "      <td>0.315</td>\n",
       "      <td>23</td>\n",
       "      <td>0</td>\n",
       "    </tr>\n",
       "  </tbody>\n",
       "</table>\n",
       "<p>768 rows × 9 columns</p>\n",
       "</div>"
      ],
      "text/plain": [
       "     Pregnancies  Glucose  BloodPressure  SkinThickness  Insulin   BMI  \\\n",
       "0              6      148             72             35        0  33.6   \n",
       "1              1       85             66             29        0  26.6   \n",
       "2              8      183             64              0        0  23.3   \n",
       "3              1       89             66             23       94  28.1   \n",
       "4              0      137             40             35      168  43.1   \n",
       "..           ...      ...            ...            ...      ...   ...   \n",
       "763           10      101             76             48      180  32.9   \n",
       "764            2      122             70             27        0  36.8   \n",
       "765            5      121             72             23      112  26.2   \n",
       "766            1      126             60              0        0  30.1   \n",
       "767            1       93             70             31        0  30.4   \n",
       "\n",
       "     DiabetesPedigreeFunction  Age  Outcome  \n",
       "0                       0.627   50        1  \n",
       "1                       0.351   31        0  \n",
       "2                       0.672   32        1  \n",
       "3                       0.167   21        0  \n",
       "4                       2.288   33        1  \n",
       "..                        ...  ...      ...  \n",
       "763                     0.171   63        0  \n",
       "764                     0.340   27        0  \n",
       "765                     0.245   30        0  \n",
       "766                     0.349   47        1  \n",
       "767                     0.315   23        0  \n",
       "\n",
       "[768 rows x 9 columns]"
      ]
     },
     "execution_count": 17,
     "metadata": {},
     "output_type": "execute_result"
    }
   ],
   "source": [
    "diabetes_dataset"
   ]
  },
  {
   "cell_type": "code",
   "execution_count": null,
   "id": "a3d60f6a",
   "metadata": {
    "papermill": {
     "duration": 0.011385,
     "end_time": "2025-10-03T08:21:55.619711",
     "exception": false,
     "start_time": "2025-10-03T08:21:55.608326",
     "status": "completed"
    },
    "tags": []
   },
   "outputs": [],
   "source": []
  },
  {
   "cell_type": "code",
   "execution_count": 18,
   "id": "61b9b187",
   "metadata": {
    "execution": {
     "iopub.execute_input": "2025-10-03T08:21:55.645276Z",
     "iopub.status.busy": "2025-10-03T08:21:55.644929Z",
     "iopub.status.idle": "2025-10-03T08:21:55.659536Z",
     "shell.execute_reply": "2025-10-03T08:21:55.658575Z"
    },
    "papermill": {
     "duration": 0.029806,
     "end_time": "2025-10-03T08:21:55.661470",
     "exception": false,
     "start_time": "2025-10-03T08:21:55.631664",
     "status": "completed"
    },
    "tags": []
   },
   "outputs": [
    {
     "data": {
      "text/html": [
       "<div>\n",
       "<style scoped>\n",
       "    .dataframe tbody tr th:only-of-type {\n",
       "        vertical-align: middle;\n",
       "    }\n",
       "\n",
       "    .dataframe tbody tr th {\n",
       "        vertical-align: top;\n",
       "    }\n",
       "\n",
       "    .dataframe thead th {\n",
       "        text-align: right;\n",
       "    }\n",
       "</style>\n",
       "<table border=\"1\" class=\"dataframe\">\n",
       "  <thead>\n",
       "    <tr style=\"text-align: right;\">\n",
       "      <th></th>\n",
       "      <th>Pregnancies</th>\n",
       "      <th>Glucose</th>\n",
       "      <th>BloodPressure</th>\n",
       "      <th>SkinThickness</th>\n",
       "      <th>Insulin</th>\n",
       "      <th>BMI</th>\n",
       "      <th>DiabetesPedigreeFunction</th>\n",
       "      <th>Age</th>\n",
       "    </tr>\n",
       "  </thead>\n",
       "  <tbody>\n",
       "    <tr>\n",
       "      <th>0</th>\n",
       "      <td>6</td>\n",
       "      <td>148</td>\n",
       "      <td>72</td>\n",
       "      <td>35</td>\n",
       "      <td>0</td>\n",
       "      <td>33.6</td>\n",
       "      <td>0.627</td>\n",
       "      <td>50</td>\n",
       "    </tr>\n",
       "    <tr>\n",
       "      <th>1</th>\n",
       "      <td>1</td>\n",
       "      <td>85</td>\n",
       "      <td>66</td>\n",
       "      <td>29</td>\n",
       "      <td>0</td>\n",
       "      <td>26.6</td>\n",
       "      <td>0.351</td>\n",
       "      <td>31</td>\n",
       "    </tr>\n",
       "    <tr>\n",
       "      <th>2</th>\n",
       "      <td>8</td>\n",
       "      <td>183</td>\n",
       "      <td>64</td>\n",
       "      <td>0</td>\n",
       "      <td>0</td>\n",
       "      <td>23.3</td>\n",
       "      <td>0.672</td>\n",
       "      <td>32</td>\n",
       "    </tr>\n",
       "    <tr>\n",
       "      <th>3</th>\n",
       "      <td>1</td>\n",
       "      <td>89</td>\n",
       "      <td>66</td>\n",
       "      <td>23</td>\n",
       "      <td>94</td>\n",
       "      <td>28.1</td>\n",
       "      <td>0.167</td>\n",
       "      <td>21</td>\n",
       "    </tr>\n",
       "    <tr>\n",
       "      <th>4</th>\n",
       "      <td>0</td>\n",
       "      <td>137</td>\n",
       "      <td>40</td>\n",
       "      <td>35</td>\n",
       "      <td>168</td>\n",
       "      <td>43.1</td>\n",
       "      <td>2.288</td>\n",
       "      <td>33</td>\n",
       "    </tr>\n",
       "    <tr>\n",
       "      <th>...</th>\n",
       "      <td>...</td>\n",
       "      <td>...</td>\n",
       "      <td>...</td>\n",
       "      <td>...</td>\n",
       "      <td>...</td>\n",
       "      <td>...</td>\n",
       "      <td>...</td>\n",
       "      <td>...</td>\n",
       "    </tr>\n",
       "    <tr>\n",
       "      <th>763</th>\n",
       "      <td>10</td>\n",
       "      <td>101</td>\n",
       "      <td>76</td>\n",
       "      <td>48</td>\n",
       "      <td>180</td>\n",
       "      <td>32.9</td>\n",
       "      <td>0.171</td>\n",
       "      <td>63</td>\n",
       "    </tr>\n",
       "    <tr>\n",
       "      <th>764</th>\n",
       "      <td>2</td>\n",
       "      <td>122</td>\n",
       "      <td>70</td>\n",
       "      <td>27</td>\n",
       "      <td>0</td>\n",
       "      <td>36.8</td>\n",
       "      <td>0.340</td>\n",
       "      <td>27</td>\n",
       "    </tr>\n",
       "    <tr>\n",
       "      <th>765</th>\n",
       "      <td>5</td>\n",
       "      <td>121</td>\n",
       "      <td>72</td>\n",
       "      <td>23</td>\n",
       "      <td>112</td>\n",
       "      <td>26.2</td>\n",
       "      <td>0.245</td>\n",
       "      <td>30</td>\n",
       "    </tr>\n",
       "    <tr>\n",
       "      <th>766</th>\n",
       "      <td>1</td>\n",
       "      <td>126</td>\n",
       "      <td>60</td>\n",
       "      <td>0</td>\n",
       "      <td>0</td>\n",
       "      <td>30.1</td>\n",
       "      <td>0.349</td>\n",
       "      <td>47</td>\n",
       "    </tr>\n",
       "    <tr>\n",
       "      <th>767</th>\n",
       "      <td>1</td>\n",
       "      <td>93</td>\n",
       "      <td>70</td>\n",
       "      <td>31</td>\n",
       "      <td>0</td>\n",
       "      <td>30.4</td>\n",
       "      <td>0.315</td>\n",
       "      <td>23</td>\n",
       "    </tr>\n",
       "  </tbody>\n",
       "</table>\n",
       "<p>768 rows × 8 columns</p>\n",
       "</div>"
      ],
      "text/plain": [
       "     Pregnancies  Glucose  BloodPressure  SkinThickness  Insulin   BMI  \\\n",
       "0              6      148             72             35        0  33.6   \n",
       "1              1       85             66             29        0  26.6   \n",
       "2              8      183             64              0        0  23.3   \n",
       "3              1       89             66             23       94  28.1   \n",
       "4              0      137             40             35      168  43.1   \n",
       "..           ...      ...            ...            ...      ...   ...   \n",
       "763           10      101             76             48      180  32.9   \n",
       "764            2      122             70             27        0  36.8   \n",
       "765            5      121             72             23      112  26.2   \n",
       "766            1      126             60              0        0  30.1   \n",
       "767            1       93             70             31        0  30.4   \n",
       "\n",
       "     DiabetesPedigreeFunction  Age  \n",
       "0                       0.627   50  \n",
       "1                       0.351   31  \n",
       "2                       0.672   32  \n",
       "3                       0.167   21  \n",
       "4                       2.288   33  \n",
       "..                        ...  ...  \n",
       "763                     0.171   63  \n",
       "764                     0.340   27  \n",
       "765                     0.245   30  \n",
       "766                     0.349   47  \n",
       "767                     0.315   23  \n",
       "\n",
       "[768 rows x 8 columns]"
      ]
     },
     "execution_count": 18,
     "metadata": {},
     "output_type": "execute_result"
    }
   ],
   "source": [
    "X"
   ]
  },
  {
   "cell_type": "code",
   "execution_count": 19,
   "id": "9dd0700f",
   "metadata": {
    "execution": {
     "iopub.execute_input": "2025-10-03T08:21:55.687965Z",
     "iopub.status.busy": "2025-10-03T08:21:55.687573Z",
     "iopub.status.idle": "2025-10-03T08:21:55.696109Z",
     "shell.execute_reply": "2025-10-03T08:21:55.694759Z"
    },
    "papermill": {
     "duration": 0.02411,
     "end_time": "2025-10-03T08:21:55.697797",
     "exception": false,
     "start_time": "2025-10-03T08:21:55.673687",
     "status": "completed"
    },
    "tags": []
   },
   "outputs": [
    {
     "data": {
      "text/plain": [
       "0      1\n",
       "1      0\n",
       "2      1\n",
       "3      0\n",
       "4      1\n",
       "      ..\n",
       "763    0\n",
       "764    0\n",
       "765    0\n",
       "766    1\n",
       "767    0\n",
       "Name: Outcome, Length: 768, dtype: int64"
      ]
     },
     "execution_count": 19,
     "metadata": {},
     "output_type": "execute_result"
    }
   ],
   "source": [
    "Y"
   ]
  },
  {
   "cell_type": "code",
   "execution_count": null,
   "id": "5a85e41b",
   "metadata": {
    "papermill": {
     "duration": 0.013065,
     "end_time": "2025-10-03T08:21:55.724084",
     "exception": false,
     "start_time": "2025-10-03T08:21:55.711019",
     "status": "completed"
    },
    "tags": []
   },
   "outputs": [],
   "source": []
  },
  {
   "cell_type": "markdown",
   "id": "9cf0b596",
   "metadata": {
    "papermill": {
     "duration": 0.013821,
     "end_time": "2025-10-03T08:21:55.750293",
     "exception": false,
     "start_time": "2025-10-03T08:21:55.736472",
     "status": "completed"
    },
    "tags": []
   },
   "source": [
    "# data standardization ::\n"
   ]
  },
  {
   "cell_type": "code",
   "execution_count": 20,
   "id": "380901ad",
   "metadata": {
    "execution": {
     "iopub.execute_input": "2025-10-03T08:21:55.776902Z",
     "iopub.status.busy": "2025-10-03T08:21:55.776449Z",
     "iopub.status.idle": "2025-10-03T08:21:55.782943Z",
     "shell.execute_reply": "2025-10-03T08:21:55.781686Z"
    },
    "papermill": {
     "duration": 0.022435,
     "end_time": "2025-10-03T08:21:55.785662",
     "exception": false,
     "start_time": "2025-10-03T08:21:55.763227",
     "status": "completed"
    },
    "tags": []
   },
   "outputs": [],
   "source": [
    "scaler=StandardScaler()"
   ]
  },
  {
   "cell_type": "raw",
   "id": "b1d44a31",
   "metadata": {
    "papermill": {
     "duration": 0.012255,
     "end_time": "2025-10-03T08:21:55.810443",
     "exception": false,
     "start_time": "2025-10-03T08:21:55.798188",
     "status": "completed"
    },
    "tags": []
   },
   "source": [
    "scaler.fit(X)\n"
   ]
  },
  {
   "cell_type": "code",
   "execution_count": 21,
   "id": "5ff823eb",
   "metadata": {
    "execution": {
     "iopub.execute_input": "2025-10-03T08:21:55.837403Z",
     "iopub.status.busy": "2025-10-03T08:21:55.835842Z",
     "iopub.status.idle": "2025-10-03T08:21:55.848912Z",
     "shell.execute_reply": "2025-10-03T08:21:55.847676Z"
    },
    "papermill": {
     "duration": 0.028256,
     "end_time": "2025-10-03T08:21:55.850862",
     "exception": false,
     "start_time": "2025-10-03T08:21:55.822606",
     "status": "completed"
    },
    "tags": []
   },
   "outputs": [],
   "source": [
    "from sklearn.preprocessing import StandardScaler\n",
    "\n",
    "# Step 1: create the scaler\n",
    "scaler = StandardScaler()\n",
    "\n",
    "# Step 2: fit on training data (learn mean & std)\n",
    "scaler.fit(X)\n",
    "\n",
    "# Step 3: transform training and test data\n",
    "X_train_scaled = scaler.transform(X)\n",
    "X_test_scaled = scaler.transform(X)\n"
   ]
  },
  {
   "cell_type": "code",
   "execution_count": 22,
   "id": "892b4372",
   "metadata": {
    "execution": {
     "iopub.execute_input": "2025-10-03T08:21:55.877784Z",
     "iopub.status.busy": "2025-10-03T08:21:55.876535Z",
     "iopub.status.idle": "2025-10-03T08:21:55.884031Z",
     "shell.execute_reply": "2025-10-03T08:21:55.883025Z"
    },
    "papermill": {
     "duration": 0.022439,
     "end_time": "2025-10-03T08:21:55.885893",
     "exception": false,
     "start_time": "2025-10-03T08:21:55.863454",
     "status": "completed"
    },
    "tags": []
   },
   "outputs": [
    {
     "data": {
      "text/plain": [
       "array([[ 0.63994726,  0.84832379,  0.14964075, ...,  0.20401277,\n",
       "         0.46849198,  1.4259954 ],\n",
       "       [-0.84488505, -1.12339636, -0.16054575, ..., -0.68442195,\n",
       "        -0.36506078, -0.19067191],\n",
       "       [ 1.23388019,  1.94372388, -0.26394125, ..., -1.10325546,\n",
       "         0.60439732, -0.10558415],\n",
       "       ...,\n",
       "       [ 0.3429808 ,  0.00330087,  0.14964075, ..., -0.73518964,\n",
       "        -0.68519336, -0.27575966],\n",
       "       [-0.84488505,  0.1597866 , -0.47073225, ..., -0.24020459,\n",
       "        -0.37110101,  1.17073215],\n",
       "       [-0.84488505, -0.8730192 ,  0.04624525, ..., -0.20212881,\n",
       "        -0.47378505, -0.87137393]])"
      ]
     },
     "execution_count": 22,
     "metadata": {},
     "output_type": "execute_result"
    }
   ],
   "source": [
    "X_test_scaled"
   ]
  },
  {
   "cell_type": "code",
   "execution_count": 23,
   "id": "e5c960b7",
   "metadata": {
    "execution": {
     "iopub.execute_input": "2025-10-03T08:21:55.912356Z",
     "iopub.status.busy": "2025-10-03T08:21:55.911595Z",
     "iopub.status.idle": "2025-10-03T08:21:55.918978Z",
     "shell.execute_reply": "2025-10-03T08:21:55.917838Z"
    },
    "papermill": {
     "duration": 0.022702,
     "end_time": "2025-10-03T08:21:55.920840",
     "exception": false,
     "start_time": "2025-10-03T08:21:55.898138",
     "status": "completed"
    },
    "tags": []
   },
   "outputs": [
    {
     "data": {
      "text/plain": [
       "array([[ 0.63994726,  0.84832379,  0.14964075, ...,  0.20401277,\n",
       "         0.46849198,  1.4259954 ],\n",
       "       [-0.84488505, -1.12339636, -0.16054575, ..., -0.68442195,\n",
       "        -0.36506078, -0.19067191],\n",
       "       [ 1.23388019,  1.94372388, -0.26394125, ..., -1.10325546,\n",
       "         0.60439732, -0.10558415],\n",
       "       ...,\n",
       "       [ 0.3429808 ,  0.00330087,  0.14964075, ..., -0.73518964,\n",
       "        -0.68519336, -0.27575966],\n",
       "       [-0.84488505,  0.1597866 , -0.47073225, ..., -0.24020459,\n",
       "        -0.37110101,  1.17073215],\n",
       "       [-0.84488505, -0.8730192 ,  0.04624525, ..., -0.20212881,\n",
       "        -0.47378505, -0.87137393]])"
      ]
     },
     "execution_count": 23,
     "metadata": {},
     "output_type": "execute_result"
    }
   ],
   "source": [
    "X_train_scaled"
   ]
  },
  {
   "cell_type": "code",
   "execution_count": 24,
   "id": "76fc0da0",
   "metadata": {
    "execution": {
     "iopub.execute_input": "2025-10-03T08:21:55.947671Z",
     "iopub.status.busy": "2025-10-03T08:21:55.947247Z",
     "iopub.status.idle": "2025-10-03T08:21:55.954862Z",
     "shell.execute_reply": "2025-10-03T08:21:55.953786Z"
    },
    "papermill": {
     "duration": 0.023028,
     "end_time": "2025-10-03T08:21:55.956583",
     "exception": false,
     "start_time": "2025-10-03T08:21:55.933555",
     "status": "completed"
    },
    "tags": []
   },
   "outputs": [],
   "source": [
    "X_scaled = scaler.transform(X)\n"
   ]
  },
  {
   "cell_type": "code",
   "execution_count": 25,
   "id": "fbdce509",
   "metadata": {
    "execution": {
     "iopub.execute_input": "2025-10-03T08:21:55.983388Z",
     "iopub.status.busy": "2025-10-03T08:21:55.983060Z",
     "iopub.status.idle": "2025-10-03T08:21:55.988553Z",
     "shell.execute_reply": "2025-10-03T08:21:55.987158Z"
    },
    "papermill": {
     "duration": 0.021216,
     "end_time": "2025-10-03T08:21:55.990224",
     "exception": false,
     "start_time": "2025-10-03T08:21:55.969008",
     "status": "completed"
    },
    "tags": []
   },
   "outputs": [],
   "source": [
    "Y=diabetes_dataset['Outcome']"
   ]
  },
  {
   "cell_type": "code",
   "execution_count": 26,
   "id": "c052c5b7",
   "metadata": {
    "execution": {
     "iopub.execute_input": "2025-10-03T08:21:56.017359Z",
     "iopub.status.busy": "2025-10-03T08:21:56.017045Z",
     "iopub.status.idle": "2025-10-03T08:21:56.031325Z",
     "shell.execute_reply": "2025-10-03T08:21:56.030193Z"
    },
    "papermill": {
     "duration": 0.029845,
     "end_time": "2025-10-03T08:21:56.033196",
     "exception": false,
     "start_time": "2025-10-03T08:21:56.003351",
     "status": "completed"
    },
    "tags": []
   },
   "outputs": [
    {
     "data": {
      "text/html": [
       "<div>\n",
       "<style scoped>\n",
       "    .dataframe tbody tr th:only-of-type {\n",
       "        vertical-align: middle;\n",
       "    }\n",
       "\n",
       "    .dataframe tbody tr th {\n",
       "        vertical-align: top;\n",
       "    }\n",
       "\n",
       "    .dataframe thead th {\n",
       "        text-align: right;\n",
       "    }\n",
       "</style>\n",
       "<table border=\"1\" class=\"dataframe\">\n",
       "  <thead>\n",
       "    <tr style=\"text-align: right;\">\n",
       "      <th></th>\n",
       "      <th>Pregnancies</th>\n",
       "      <th>Glucose</th>\n",
       "      <th>BloodPressure</th>\n",
       "      <th>SkinThickness</th>\n",
       "      <th>Insulin</th>\n",
       "      <th>BMI</th>\n",
       "      <th>DiabetesPedigreeFunction</th>\n",
       "      <th>Age</th>\n",
       "    </tr>\n",
       "  </thead>\n",
       "  <tbody>\n",
       "    <tr>\n",
       "      <th>0</th>\n",
       "      <td>6</td>\n",
       "      <td>148</td>\n",
       "      <td>72</td>\n",
       "      <td>35</td>\n",
       "      <td>0</td>\n",
       "      <td>33.6</td>\n",
       "      <td>0.627</td>\n",
       "      <td>50</td>\n",
       "    </tr>\n",
       "    <tr>\n",
       "      <th>1</th>\n",
       "      <td>1</td>\n",
       "      <td>85</td>\n",
       "      <td>66</td>\n",
       "      <td>29</td>\n",
       "      <td>0</td>\n",
       "      <td>26.6</td>\n",
       "      <td>0.351</td>\n",
       "      <td>31</td>\n",
       "    </tr>\n",
       "    <tr>\n",
       "      <th>2</th>\n",
       "      <td>8</td>\n",
       "      <td>183</td>\n",
       "      <td>64</td>\n",
       "      <td>0</td>\n",
       "      <td>0</td>\n",
       "      <td>23.3</td>\n",
       "      <td>0.672</td>\n",
       "      <td>32</td>\n",
       "    </tr>\n",
       "    <tr>\n",
       "      <th>3</th>\n",
       "      <td>1</td>\n",
       "      <td>89</td>\n",
       "      <td>66</td>\n",
       "      <td>23</td>\n",
       "      <td>94</td>\n",
       "      <td>28.1</td>\n",
       "      <td>0.167</td>\n",
       "      <td>21</td>\n",
       "    </tr>\n",
       "    <tr>\n",
       "      <th>4</th>\n",
       "      <td>0</td>\n",
       "      <td>137</td>\n",
       "      <td>40</td>\n",
       "      <td>35</td>\n",
       "      <td>168</td>\n",
       "      <td>43.1</td>\n",
       "      <td>2.288</td>\n",
       "      <td>33</td>\n",
       "    </tr>\n",
       "    <tr>\n",
       "      <th>...</th>\n",
       "      <td>...</td>\n",
       "      <td>...</td>\n",
       "      <td>...</td>\n",
       "      <td>...</td>\n",
       "      <td>...</td>\n",
       "      <td>...</td>\n",
       "      <td>...</td>\n",
       "      <td>...</td>\n",
       "    </tr>\n",
       "    <tr>\n",
       "      <th>763</th>\n",
       "      <td>10</td>\n",
       "      <td>101</td>\n",
       "      <td>76</td>\n",
       "      <td>48</td>\n",
       "      <td>180</td>\n",
       "      <td>32.9</td>\n",
       "      <td>0.171</td>\n",
       "      <td>63</td>\n",
       "    </tr>\n",
       "    <tr>\n",
       "      <th>764</th>\n",
       "      <td>2</td>\n",
       "      <td>122</td>\n",
       "      <td>70</td>\n",
       "      <td>27</td>\n",
       "      <td>0</td>\n",
       "      <td>36.8</td>\n",
       "      <td>0.340</td>\n",
       "      <td>27</td>\n",
       "    </tr>\n",
       "    <tr>\n",
       "      <th>765</th>\n",
       "      <td>5</td>\n",
       "      <td>121</td>\n",
       "      <td>72</td>\n",
       "      <td>23</td>\n",
       "      <td>112</td>\n",
       "      <td>26.2</td>\n",
       "      <td>0.245</td>\n",
       "      <td>30</td>\n",
       "    </tr>\n",
       "    <tr>\n",
       "      <th>766</th>\n",
       "      <td>1</td>\n",
       "      <td>126</td>\n",
       "      <td>60</td>\n",
       "      <td>0</td>\n",
       "      <td>0</td>\n",
       "      <td>30.1</td>\n",
       "      <td>0.349</td>\n",
       "      <td>47</td>\n",
       "    </tr>\n",
       "    <tr>\n",
       "      <th>767</th>\n",
       "      <td>1</td>\n",
       "      <td>93</td>\n",
       "      <td>70</td>\n",
       "      <td>31</td>\n",
       "      <td>0</td>\n",
       "      <td>30.4</td>\n",
       "      <td>0.315</td>\n",
       "      <td>23</td>\n",
       "    </tr>\n",
       "  </tbody>\n",
       "</table>\n",
       "<p>768 rows × 8 columns</p>\n",
       "</div>"
      ],
      "text/plain": [
       "     Pregnancies  Glucose  BloodPressure  SkinThickness  Insulin   BMI  \\\n",
       "0              6      148             72             35        0  33.6   \n",
       "1              1       85             66             29        0  26.6   \n",
       "2              8      183             64              0        0  23.3   \n",
       "3              1       89             66             23       94  28.1   \n",
       "4              0      137             40             35      168  43.1   \n",
       "..           ...      ...            ...            ...      ...   ...   \n",
       "763           10      101             76             48      180  32.9   \n",
       "764            2      122             70             27        0  36.8   \n",
       "765            5      121             72             23      112  26.2   \n",
       "766            1      126             60              0        0  30.1   \n",
       "767            1       93             70             31        0  30.4   \n",
       "\n",
       "     DiabetesPedigreeFunction  Age  \n",
       "0                       0.627   50  \n",
       "1                       0.351   31  \n",
       "2                       0.672   32  \n",
       "3                       0.167   21  \n",
       "4                       2.288   33  \n",
       "..                        ...  ...  \n",
       "763                     0.171   63  \n",
       "764                     0.340   27  \n",
       "765                     0.245   30  \n",
       "766                     0.349   47  \n",
       "767                     0.315   23  \n",
       "\n",
       "[768 rows x 8 columns]"
      ]
     },
     "execution_count": 26,
     "metadata": {},
     "output_type": "execute_result"
    }
   ],
   "source": [
    "X"
   ]
  },
  {
   "cell_type": "code",
   "execution_count": 27,
   "id": "874ef5d7",
   "metadata": {
    "execution": {
     "iopub.execute_input": "2025-10-03T08:21:56.060074Z",
     "iopub.status.busy": "2025-10-03T08:21:56.059702Z",
     "iopub.status.idle": "2025-10-03T08:21:56.067540Z",
     "shell.execute_reply": "2025-10-03T08:21:56.066514Z"
    },
    "papermill": {
     "duration": 0.022944,
     "end_time": "2025-10-03T08:21:56.069207",
     "exception": false,
     "start_time": "2025-10-03T08:21:56.046263",
     "status": "completed"
    },
    "tags": []
   },
   "outputs": [
    {
     "data": {
      "text/plain": [
       "0      1\n",
       "1      0\n",
       "2      1\n",
       "3      0\n",
       "4      1\n",
       "      ..\n",
       "763    0\n",
       "764    0\n",
       "765    0\n",
       "766    1\n",
       "767    0\n",
       "Name: Outcome, Length: 768, dtype: int64"
      ]
     },
     "execution_count": 27,
     "metadata": {},
     "output_type": "execute_result"
    }
   ],
   "source": [
    "Y"
   ]
  },
  {
   "cell_type": "code",
   "execution_count": 28,
   "id": "86508248",
   "metadata": {
    "execution": {
     "iopub.execute_input": "2025-10-03T08:21:56.096865Z",
     "iopub.status.busy": "2025-10-03T08:21:56.095614Z",
     "iopub.status.idle": "2025-10-03T08:21:56.106008Z",
     "shell.execute_reply": "2025-10-03T08:21:56.104901Z"
    },
    "papermill": {
     "duration": 0.025879,
     "end_time": "2025-10-03T08:21:56.107962",
     "exception": false,
     "start_time": "2025-10-03T08:21:56.082083",
     "status": "completed"
    },
    "tags": []
   },
   "outputs": [
    {
     "name": "stdout",
     "output_type": "stream",
     "text": [
      "X_train shape: (614, 8)\n",
      "X_test shape: (154, 8)\n",
      "Y_train shape: (614,)\n",
      "Y_test shape: (154,)\n"
     ]
    }
   ],
   "source": [
    "from sklearn.model_selection import train_test_split\n",
    "\n",
    "# Assuming X = features, Y = target\n",
    "X_train, X_test, Y_train, Y_test = train_test_split(\n",
    "    X, Y, \n",
    "    test_size=0.2,     # 20% test set\n",
    "    stratify=Y,        # preserves class distribution\n",
    "    random_state=2     # reproducible split\n",
    ")\n",
    "\n",
    "print(\"X_train shape:\", X_train.shape)\n",
    "print(\"X_test shape:\", X_test.shape)\n",
    "print(\"Y_train shape:\", Y_train.shape)\n",
    "print(\"Y_test shape:\", Y_test.shape)\n"
   ]
  },
  {
   "cell_type": "code",
   "execution_count": 29,
   "id": "40035051",
   "metadata": {
    "execution": {
     "iopub.execute_input": "2025-10-03T08:21:56.138781Z",
     "iopub.status.busy": "2025-10-03T08:21:56.138346Z",
     "iopub.status.idle": "2025-10-03T08:21:56.146258Z",
     "shell.execute_reply": "2025-10-03T08:21:56.144782Z"
    },
    "papermill": {
     "duration": 0.026715,
     "end_time": "2025-10-03T08:21:56.149214",
     "exception": false,
     "start_time": "2025-10-03T08:21:56.122499",
     "status": "completed"
    },
    "tags": []
   },
   "outputs": [
    {
     "data": {
      "text/plain": [
       "(768, 8)"
      ]
     },
     "execution_count": 29,
     "metadata": {},
     "output_type": "execute_result"
    }
   ],
   "source": [
    "X.shape"
   ]
  },
  {
   "cell_type": "code",
   "execution_count": null,
   "id": "e487b60a",
   "metadata": {
    "papermill": {
     "duration": 0.012773,
     "end_time": "2025-10-03T08:21:56.176921",
     "exception": false,
     "start_time": "2025-10-03T08:21:56.164148",
     "status": "completed"
    },
    "tags": []
   },
   "outputs": [],
   "source": []
  },
  {
   "cell_type": "markdown",
   "id": "276dc17b",
   "metadata": {
    "papermill": {
     "duration": 0.013283,
     "end_time": "2025-10-03T08:21:56.203842",
     "exception": false,
     "start_time": "2025-10-03T08:21:56.190559",
     "status": "completed"
    },
    "tags": []
   },
   "source": [
    "# Training the model::"
   ]
  },
  {
   "cell_type": "code",
   "execution_count": 30,
   "id": "328dd9e9",
   "metadata": {
    "execution": {
     "iopub.execute_input": "2025-10-03T08:21:56.232882Z",
     "iopub.status.busy": "2025-10-03T08:21:56.232467Z",
     "iopub.status.idle": "2025-10-03T08:21:56.237448Z",
     "shell.execute_reply": "2025-10-03T08:21:56.236395Z"
    },
    "papermill": {
     "duration": 0.02127,
     "end_time": "2025-10-03T08:21:56.239525",
     "exception": false,
     "start_time": "2025-10-03T08:21:56.218255",
     "status": "completed"
    },
    "tags": []
   },
   "outputs": [],
   "source": [
    "classifier=svm.SVC(kernel='linear')\n"
   ]
  },
  {
   "cell_type": "code",
   "execution_count": 31,
   "id": "0e8ea012",
   "metadata": {
    "execution": {
     "iopub.execute_input": "2025-10-03T08:21:56.266217Z",
     "iopub.status.busy": "2025-10-03T08:21:56.265909Z",
     "iopub.status.idle": "2025-10-03T08:21:56.270614Z",
     "shell.execute_reply": "2025-10-03T08:21:56.269606Z"
    },
    "papermill": {
     "duration": 0.02044,
     "end_time": "2025-10-03T08:21:56.272849",
     "exception": false,
     "start_time": "2025-10-03T08:21:56.252409",
     "status": "completed"
    },
    "tags": []
   },
   "outputs": [],
   "source": [
    "#training the support vector machine classifier::\n"
   ]
  },
  {
   "cell_type": "code",
   "execution_count": 32,
   "id": "d25d1a91",
   "metadata": {
    "execution": {
     "iopub.execute_input": "2025-10-03T08:21:56.307600Z",
     "iopub.status.busy": "2025-10-03T08:21:56.307169Z",
     "iopub.status.idle": "2025-10-03T08:21:58.778236Z",
     "shell.execute_reply": "2025-10-03T08:21:58.777061Z"
    },
    "papermill": {
     "duration": 2.488718,
     "end_time": "2025-10-03T08:21:58.780180",
     "exception": false,
     "start_time": "2025-10-03T08:21:56.291462",
     "status": "completed"
    },
    "tags": []
   },
   "outputs": [
    {
     "data": {
      "text/html": [
       "<style>#sk-container-id-1 {color: black;background-color: white;}#sk-container-id-1 pre{padding: 0;}#sk-container-id-1 div.sk-toggleable {background-color: white;}#sk-container-id-1 label.sk-toggleable__label {cursor: pointer;display: block;width: 100%;margin-bottom: 0;padding: 0.3em;box-sizing: border-box;text-align: center;}#sk-container-id-1 label.sk-toggleable__label-arrow:before {content: \"▸\";float: left;margin-right: 0.25em;color: #696969;}#sk-container-id-1 label.sk-toggleable__label-arrow:hover:before {color: black;}#sk-container-id-1 div.sk-estimator:hover label.sk-toggleable__label-arrow:before {color: black;}#sk-container-id-1 div.sk-toggleable__content {max-height: 0;max-width: 0;overflow: hidden;text-align: left;background-color: #f0f8ff;}#sk-container-id-1 div.sk-toggleable__content pre {margin: 0.2em;color: black;border-radius: 0.25em;background-color: #f0f8ff;}#sk-container-id-1 input.sk-toggleable__control:checked~div.sk-toggleable__content {max-height: 200px;max-width: 100%;overflow: auto;}#sk-container-id-1 input.sk-toggleable__control:checked~label.sk-toggleable__label-arrow:before {content: \"▾\";}#sk-container-id-1 div.sk-estimator input.sk-toggleable__control:checked~label.sk-toggleable__label {background-color: #d4ebff;}#sk-container-id-1 div.sk-label input.sk-toggleable__control:checked~label.sk-toggleable__label {background-color: #d4ebff;}#sk-container-id-1 input.sk-hidden--visually {border: 0;clip: rect(1px 1px 1px 1px);clip: rect(1px, 1px, 1px, 1px);height: 1px;margin: -1px;overflow: hidden;padding: 0;position: absolute;width: 1px;}#sk-container-id-1 div.sk-estimator {font-family: monospace;background-color: #f0f8ff;border: 1px dotted black;border-radius: 0.25em;box-sizing: border-box;margin-bottom: 0.5em;}#sk-container-id-1 div.sk-estimator:hover {background-color: #d4ebff;}#sk-container-id-1 div.sk-parallel-item::after {content: \"\";width: 100%;border-bottom: 1px solid gray;flex-grow: 1;}#sk-container-id-1 div.sk-label:hover label.sk-toggleable__label {background-color: #d4ebff;}#sk-container-id-1 div.sk-serial::before {content: \"\";position: absolute;border-left: 1px solid gray;box-sizing: border-box;top: 0;bottom: 0;left: 50%;z-index: 0;}#sk-container-id-1 div.sk-serial {display: flex;flex-direction: column;align-items: center;background-color: white;padding-right: 0.2em;padding-left: 0.2em;position: relative;}#sk-container-id-1 div.sk-item {position: relative;z-index: 1;}#sk-container-id-1 div.sk-parallel {display: flex;align-items: stretch;justify-content: center;background-color: white;position: relative;}#sk-container-id-1 div.sk-item::before, #sk-container-id-1 div.sk-parallel-item::before {content: \"\";position: absolute;border-left: 1px solid gray;box-sizing: border-box;top: 0;bottom: 0;left: 50%;z-index: -1;}#sk-container-id-1 div.sk-parallel-item {display: flex;flex-direction: column;z-index: 1;position: relative;background-color: white;}#sk-container-id-1 div.sk-parallel-item:first-child::after {align-self: flex-end;width: 50%;}#sk-container-id-1 div.sk-parallel-item:last-child::after {align-self: flex-start;width: 50%;}#sk-container-id-1 div.sk-parallel-item:only-child::after {width: 0;}#sk-container-id-1 div.sk-dashed-wrapped {border: 1px dashed gray;margin: 0 0.4em 0.5em 0.4em;box-sizing: border-box;padding-bottom: 0.4em;background-color: white;}#sk-container-id-1 div.sk-label label {font-family: monospace;font-weight: bold;display: inline-block;line-height: 1.2em;}#sk-container-id-1 div.sk-label-container {text-align: center;}#sk-container-id-1 div.sk-container {/* jupyter's `normalize.less` sets `[hidden] { display: none; }` but bootstrap.min.css set `[hidden] { display: none !important; }` so we also need the `!important` here to be able to override the default hidden behavior on the sphinx rendered scikit-learn.org. See: https://github.com/scikit-learn/scikit-learn/issues/21755 */display: inline-block !important;position: relative;}#sk-container-id-1 div.sk-text-repr-fallback {display: none;}</style><div id=\"sk-container-id-1\" class=\"sk-top-container\"><div class=\"sk-text-repr-fallback\"><pre>SVC(kernel=&#x27;linear&#x27;)</pre><b>In a Jupyter environment, please rerun this cell to show the HTML representation or trust the notebook. <br />On GitHub, the HTML representation is unable to render, please try loading this page with nbviewer.org.</b></div><div class=\"sk-container\" hidden><div class=\"sk-item\"><div class=\"sk-estimator sk-toggleable\"><input class=\"sk-toggleable__control sk-hidden--visually\" id=\"sk-estimator-id-1\" type=\"checkbox\" checked><label for=\"sk-estimator-id-1\" class=\"sk-toggleable__label sk-toggleable__label-arrow\">SVC</label><div class=\"sk-toggleable__content\"><pre>SVC(kernel=&#x27;linear&#x27;)</pre></div></div></div></div></div>"
      ],
      "text/plain": [
       "SVC(kernel='linear')"
      ]
     },
     "execution_count": 32,
     "metadata": {},
     "output_type": "execute_result"
    }
   ],
   "source": [
    "classifier.fit(X_train,Y_train)"
   ]
  },
  {
   "cell_type": "code",
   "execution_count": null,
   "id": "e8781593",
   "metadata": {
    "papermill": {
     "duration": 0.012571,
     "end_time": "2025-10-03T08:21:58.805966",
     "exception": false,
     "start_time": "2025-10-03T08:21:58.793395",
     "status": "completed"
    },
    "tags": []
   },
   "outputs": [],
   "source": []
  },
  {
   "cell_type": "markdown",
   "id": "b1f0f4f4",
   "metadata": {
    "papermill": {
     "duration": 0.012483,
     "end_time": "2025-10-03T08:21:58.831226",
     "exception": false,
     "start_time": "2025-10-03T08:21:58.818743",
     "status": "completed"
    },
    "tags": []
   },
   "source": [
    "# model evaluation ::\n"
   ]
  },
  {
   "cell_type": "code",
   "execution_count": null,
   "id": "0e352187",
   "metadata": {
    "papermill": {
     "duration": 0.012283,
     "end_time": "2025-10-03T08:21:58.856239",
     "exception": false,
     "start_time": "2025-10-03T08:21:58.843956",
     "status": "completed"
    },
    "tags": []
   },
   "outputs": [],
   "source": []
  },
  {
   "cell_type": "markdown",
   "id": "1e615fcb",
   "metadata": {
    "papermill": {
     "duration": 0.012516,
     "end_time": "2025-10-03T08:21:58.881314",
     "exception": false,
     "start_time": "2025-10-03T08:21:58.868798",
     "status": "completed"
    },
    "tags": []
   },
   "source": [
    "# accuracy score::"
   ]
  },
  {
   "cell_type": "code",
   "execution_count": 33,
   "id": "eb28be65",
   "metadata": {
    "execution": {
     "iopub.execute_input": "2025-10-03T08:21:58.909372Z",
     "iopub.status.busy": "2025-10-03T08:21:58.908551Z",
     "iopub.status.idle": "2025-10-03T08:21:58.920100Z",
     "shell.execute_reply": "2025-10-03T08:21:58.918784Z"
    },
    "papermill": {
     "duration": 0.0275,
     "end_time": "2025-10-03T08:21:58.921967",
     "exception": false,
     "start_time": "2025-10-03T08:21:58.894467",
     "status": "completed"
    },
    "tags": []
   },
   "outputs": [],
   "source": [
    "X_train_prediction=classifier.predict(X_train)"
   ]
  },
  {
   "cell_type": "code",
   "execution_count": 34,
   "id": "56a55e8f",
   "metadata": {
    "execution": {
     "iopub.execute_input": "2025-10-03T08:21:58.949161Z",
     "iopub.status.busy": "2025-10-03T08:21:58.948843Z",
     "iopub.status.idle": "2025-10-03T08:21:58.955983Z",
     "shell.execute_reply": "2025-10-03T08:21:58.954784Z"
    },
    "papermill": {
     "duration": 0.022785,
     "end_time": "2025-10-03T08:21:58.957783",
     "exception": false,
     "start_time": "2025-10-03T08:21:58.934998",
     "status": "completed"
    },
    "tags": []
   },
   "outputs": [],
   "source": [
    "training_data_accuracy=accuracy_score(X_train_prediction,Y_train)\n"
   ]
  },
  {
   "cell_type": "code",
   "execution_count": 35,
   "id": "bb04f160",
   "metadata": {
    "execution": {
     "iopub.execute_input": "2025-10-03T08:21:58.985091Z",
     "iopub.status.busy": "2025-10-03T08:21:58.984754Z",
     "iopub.status.idle": "2025-10-03T08:21:58.990659Z",
     "shell.execute_reply": "2025-10-03T08:21:58.989781Z"
    },
    "papermill": {
     "duration": 0.021505,
     "end_time": "2025-10-03T08:21:58.992357",
     "exception": false,
     "start_time": "2025-10-03T08:21:58.970852",
     "status": "completed"
    },
    "tags": []
   },
   "outputs": [
    {
     "data": {
      "text/plain": [
       "0.7833876221498371"
      ]
     },
     "execution_count": 35,
     "metadata": {},
     "output_type": "execute_result"
    }
   ],
   "source": [
    "training_data_accuracy"
   ]
  },
  {
   "cell_type": "code",
   "execution_count": 36,
   "id": "2fe946a3",
   "metadata": {
    "execution": {
     "iopub.execute_input": "2025-10-03T08:21:59.019935Z",
     "iopub.status.busy": "2025-10-03T08:21:59.019562Z",
     "iopub.status.idle": "2025-10-03T08:21:59.029711Z",
     "shell.execute_reply": "2025-10-03T08:21:59.028409Z"
    },
    "papermill": {
     "duration": 0.026018,
     "end_time": "2025-10-03T08:21:59.031599",
     "exception": false,
     "start_time": "2025-10-03T08:21:59.005581",
     "status": "completed"
    },
    "tags": []
   },
   "outputs": [
    {
     "data": {
      "text/plain": [
       "0.7727272727272727"
      ]
     },
     "execution_count": 36,
     "metadata": {},
     "output_type": "execute_result"
    }
   ],
   "source": [
    "X_test_prediction=classifier.predict(X_test)\n",
    "test_data_accuracy=accuracy_score(X_test_prediction,Y_test)\n",
    "test_data_accuracy"
   ]
  },
  {
   "cell_type": "code",
   "execution_count": null,
   "id": "14f401d1",
   "metadata": {
    "papermill": {
     "duration": 0.012733,
     "end_time": "2025-10-03T08:21:59.057443",
     "exception": false,
     "start_time": "2025-10-03T08:21:59.044710",
     "status": "completed"
    },
    "tags": []
   },
   "outputs": [],
   "source": []
  },
  {
   "cell_type": "markdown",
   "id": "1bf212cd",
   "metadata": {
    "papermill": {
     "duration": 0.013158,
     "end_time": "2025-10-03T08:21:59.083527",
     "exception": false,
     "start_time": "2025-10-03T08:21:59.070369",
     "status": "completed"
    },
    "tags": []
   },
   "source": [
    "# making a predictive System::\n"
   ]
  },
  {
   "cell_type": "code",
   "execution_count": 37,
   "id": "fb4d2e21",
   "metadata": {
    "execution": {
     "iopub.execute_input": "2025-10-03T08:21:59.110953Z",
     "iopub.status.busy": "2025-10-03T08:21:59.110312Z",
     "iopub.status.idle": "2025-10-03T08:21:59.115659Z",
     "shell.execute_reply": "2025-10-03T08:21:59.114456Z"
    },
    "papermill": {
     "duration": 0.021013,
     "end_time": "2025-10-03T08:21:59.117442",
     "exception": false,
     "start_time": "2025-10-03T08:21:59.096429",
     "status": "completed"
    },
    "tags": []
   },
   "outputs": [],
   "source": [
    "input_data=(4,110,92,0,0,37.6,0.191,30)\n"
   ]
  },
  {
   "cell_type": "code",
   "execution_count": 38,
   "id": "6df31d08",
   "metadata": {
    "execution": {
     "iopub.execute_input": "2025-10-03T08:21:59.146632Z",
     "iopub.status.busy": "2025-10-03T08:21:59.146204Z",
     "iopub.status.idle": "2025-10-03T08:21:59.151309Z",
     "shell.execute_reply": "2025-10-03T08:21:59.150032Z"
    },
    "papermill": {
     "duration": 0.021969,
     "end_time": "2025-10-03T08:21:59.153337",
     "exception": false,
     "start_time": "2025-10-03T08:21:59.131368",
     "status": "completed"
    },
    "tags": []
   },
   "outputs": [],
   "source": [
    "#changing the input data into a numpy array ::"
   ]
  },
  {
   "cell_type": "code",
   "execution_count": 39,
   "id": "a9a68ef2",
   "metadata": {
    "execution": {
     "iopub.execute_input": "2025-10-03T08:21:59.181989Z",
     "iopub.status.busy": "2025-10-03T08:21:59.181632Z",
     "iopub.status.idle": "2025-10-03T08:21:59.186177Z",
     "shell.execute_reply": "2025-10-03T08:21:59.185205Z"
    },
    "papermill": {
     "duration": 0.020486,
     "end_time": "2025-10-03T08:21:59.187984",
     "exception": false,
     "start_time": "2025-10-03T08:21:59.167498",
     "status": "completed"
    },
    "tags": []
   },
   "outputs": [],
   "source": [
    "input_data_as_numpy_array=np.asarray(input_data)"
   ]
  },
  {
   "cell_type": "code",
   "execution_count": 40,
   "id": "7b308df1",
   "metadata": {
    "execution": {
     "iopub.execute_input": "2025-10-03T08:21:59.215757Z",
     "iopub.status.busy": "2025-10-03T08:21:59.215420Z",
     "iopub.status.idle": "2025-10-03T08:21:59.221996Z",
     "shell.execute_reply": "2025-10-03T08:21:59.219806Z"
    },
    "papermill": {
     "duration": 0.022777,
     "end_time": "2025-10-03T08:21:59.224035",
     "exception": false,
     "start_time": "2025-10-03T08:21:59.201258",
     "status": "completed"
    },
    "tags": []
   },
   "outputs": [],
   "source": [
    "#reshape the array as we are predicting for one instance ::\n",
    "input_data_reshape=input_data_as_numpy_array.reshape(1,-1)\n"
   ]
  },
  {
   "cell_type": "raw",
   "id": "74ae5024",
   "metadata": {
    "papermill": {
     "duration": 0.012682,
     "end_time": "2025-10-03T08:21:59.251896",
     "exception": false,
     "start_time": "2025-10-03T08:21:59.239214",
     "status": "completed"
    },
    "tags": []
   },
   "source": [
    "#standardize the input data::\n"
   ]
  },
  {
   "cell_type": "code",
   "execution_count": 41,
   "id": "5a7dbb26",
   "metadata": {
    "execution": {
     "iopub.execute_input": "2025-10-03T08:21:59.280253Z",
     "iopub.status.busy": "2025-10-03T08:21:59.279683Z",
     "iopub.status.idle": "2025-10-03T08:21:59.287151Z",
     "shell.execute_reply": "2025-10-03T08:21:59.285906Z"
    },
    "papermill": {
     "duration": 0.023686,
     "end_time": "2025-10-03T08:21:59.289275",
     "exception": false,
     "start_time": "2025-10-03T08:21:59.265589",
     "status": "completed"
    },
    "tags": []
   },
   "outputs": [
    {
     "name": "stderr",
     "output_type": "stream",
     "text": [
      "/usr/local/lib/python3.11/dist-packages/sklearn/base.py:439: UserWarning: X does not have valid feature names, but StandardScaler was fitted with feature names\n",
      "  warnings.warn(\n"
     ]
    }
   ],
   "source": [
    "std_data=scaler.transform(input_data_reshape)"
   ]
  },
  {
   "cell_type": "code",
   "execution_count": 42,
   "id": "eb2b9027",
   "metadata": {
    "execution": {
     "iopub.execute_input": "2025-10-03T08:21:59.317244Z",
     "iopub.status.busy": "2025-10-03T08:21:59.316930Z",
     "iopub.status.idle": "2025-10-03T08:21:59.323426Z",
     "shell.execute_reply": "2025-10-03T08:21:59.322398Z"
    },
    "papermill": {
     "duration": 0.02238,
     "end_time": "2025-10-03T08:21:59.325127",
     "exception": false,
     "start_time": "2025-10-03T08:21:59.302747",
     "status": "completed"
    },
    "tags": []
   },
   "outputs": [
    {
     "data": {
      "text/plain": [
       "array([[ 0.04601433, -0.34096773,  1.18359575, -1.28821221, -0.69289057,\n",
       "         0.71168975, -0.84827977, -0.27575966]])"
      ]
     },
     "execution_count": 42,
     "metadata": {},
     "output_type": "execute_result"
    }
   ],
   "source": [
    "std_data"
   ]
  },
  {
   "cell_type": "code",
   "execution_count": 43,
   "id": "31fa0c91",
   "metadata": {
    "execution": {
     "iopub.execute_input": "2025-10-03T08:21:59.353082Z",
     "iopub.status.busy": "2025-10-03T08:21:59.352690Z",
     "iopub.status.idle": "2025-10-03T08:21:59.359359Z",
     "shell.execute_reply": "2025-10-03T08:21:59.357790Z"
    },
    "papermill": {
     "duration": 0.022716,
     "end_time": "2025-10-03T08:21:59.361376",
     "exception": false,
     "start_time": "2025-10-03T08:21:59.338660",
     "status": "completed"
    },
    "tags": []
   },
   "outputs": [
    {
     "name": "stderr",
     "output_type": "stream",
     "text": [
      "/usr/local/lib/python3.11/dist-packages/sklearn/base.py:439: UserWarning: X does not have valid feature names, but SVC was fitted with feature names\n",
      "  warnings.warn(\n"
     ]
    }
   ],
   "source": [
    "prediction=classifier.predict(std_data)"
   ]
  },
  {
   "cell_type": "code",
   "execution_count": 44,
   "id": "0342c030",
   "metadata": {
    "execution": {
     "iopub.execute_input": "2025-10-03T08:21:59.391037Z",
     "iopub.status.busy": "2025-10-03T08:21:59.390673Z",
     "iopub.status.idle": "2025-10-03T08:21:59.397258Z",
     "shell.execute_reply": "2025-10-03T08:21:59.396154Z"
    },
    "papermill": {
     "duration": 0.023207,
     "end_time": "2025-10-03T08:21:59.399049",
     "exception": false,
     "start_time": "2025-10-03T08:21:59.375842",
     "status": "completed"
    },
    "tags": []
   },
   "outputs": [
    {
     "data": {
      "text/plain": [
       "array([0])"
      ]
     },
     "execution_count": 44,
     "metadata": {},
     "output_type": "execute_result"
    }
   ],
   "source": [
    "prediction"
   ]
  },
  {
   "cell_type": "code",
   "execution_count": 45,
   "id": "7b0099bf",
   "metadata": {
    "execution": {
     "iopub.execute_input": "2025-10-03T08:21:59.427497Z",
     "iopub.status.busy": "2025-10-03T08:21:59.427152Z",
     "iopub.status.idle": "2025-10-03T08:21:59.432777Z",
     "shell.execute_reply": "2025-10-03T08:21:59.431744Z"
    },
    "papermill": {
     "duration": 0.021775,
     "end_time": "2025-10-03T08:21:59.434289",
     "exception": false,
     "start_time": "2025-10-03T08:21:59.412514",
     "status": "completed"
    },
    "tags": []
   },
   "outputs": [
    {
     "name": "stdout",
     "output_type": "stream",
     "text": [
      "the person is there\n"
     ]
    }
   ],
   "source": [
    "if (prediction[0]==0):\n",
    "    print(\"the person is there\")\n",
    "else :\n",
    "    print(\"no value \")\n",
    "    "
   ]
  },
  {
   "cell_type": "code",
   "execution_count": null,
   "id": "9407a2f9",
   "metadata": {
    "papermill": {
     "duration": 0.015486,
     "end_time": "2025-10-03T08:21:59.464173",
     "exception": false,
     "start_time": "2025-10-03T08:21:59.448687",
     "status": "completed"
    },
    "tags": []
   },
   "outputs": [],
   "source": []
  },
  {
   "cell_type": "code",
   "execution_count": null,
   "id": "a4a2debd",
   "metadata": {
    "papermill": {
     "duration": 0.013438,
     "end_time": "2025-10-03T08:21:59.491191",
     "exception": false,
     "start_time": "2025-10-03T08:21:59.477753",
     "status": "completed"
    },
    "tags": []
   },
   "outputs": [],
   "source": []
  },
  {
   "cell_type": "code",
   "execution_count": null,
   "id": "6a25c375",
   "metadata": {
    "papermill": {
     "duration": 0.013139,
     "end_time": "2025-10-03T08:21:59.517623",
     "exception": false,
     "start_time": "2025-10-03T08:21:59.504484",
     "status": "completed"
    },
    "tags": []
   },
   "outputs": [],
   "source": []
  },
  {
   "cell_type": "code",
   "execution_count": null,
   "id": "01800fff",
   "metadata": {
    "papermill": {
     "duration": 0.013594,
     "end_time": "2025-10-03T08:21:59.545208",
     "exception": false,
     "start_time": "2025-10-03T08:21:59.531614",
     "status": "completed"
    },
    "tags": []
   },
   "outputs": [],
   "source": []
  },
  {
   "cell_type": "code",
   "execution_count": null,
   "id": "03947794",
   "metadata": {
    "papermill": {
     "duration": 0.013222,
     "end_time": "2025-10-03T08:21:59.573105",
     "exception": false,
     "start_time": "2025-10-03T08:21:59.559883",
     "status": "completed"
    },
    "tags": []
   },
   "outputs": [],
   "source": []
  }
 ],
 "metadata": {
  "kaggle": {
   "accelerator": "none",
   "dataSources": [],
   "dockerImageVersionId": 31089,
   "isGpuEnabled": false,
   "isInternetEnabled": true,
   "language": "python",
   "sourceType": "notebook"
  },
  "kernelspec": {
   "display_name": "Python 3",
   "language": "python",
   "name": "python3"
  },
  "language_info": {
   "codemirror_mode": {
    "name": "ipython",
    "version": 3
   },
   "file_extension": ".py",
   "mimetype": "text/x-python",
   "name": "python",
   "nbconvert_exporter": "python",
   "pygments_lexer": "ipython3",
   "version": "3.11.13"
  },
  "papermill": {
   "default_parameters": {},
   "duration": 17.012,
   "end_time": "2025-10-03T08:22:00.207274",
   "environment_variables": {},
   "exception": null,
   "input_path": "__notebook__.ipynb",
   "output_path": "__notebook__.ipynb",
   "parameters": {},
   "start_time": "2025-10-03T08:21:43.195274",
   "version": "2.6.0"
  }
 },
 "nbformat": 4,
 "nbformat_minor": 5
}
